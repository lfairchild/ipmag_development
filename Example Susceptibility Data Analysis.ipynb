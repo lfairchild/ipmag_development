{
 "cells": [
  {
   "cell_type": "markdown",
   "metadata": {},
   "source": [
    "* [Example Susceptibility Data Analysis](#Susceptibility-vs.-temperature,-applied-field-and-frequency)"
   ]
  },
  {
   "cell_type": "markdown",
   "metadata": {},
   "source": [
    "## Susceptibility vs. temperature, applied field and frequency\n",
    "\n",
    "This example makes use of the function **ipmag.chi_magic**.\n",
    "\n",
    "*This code currently throws a bunch of matplotlib errors to the console. Let's fix that befor including in example notebook*"
   ]
  },
  {
   "cell_type": "code",
   "execution_count": null,
   "metadata": {
    "collapsed": true
   },
   "outputs": [],
   "source": [
    "ipmag.chi_magic(path_to_file='./Additional_Data/chi_magic/',\n",
    "          file_name='chi_magic_example.dat', save=True, \n",
    "          save_folder='Additional_Notebook_Output/chi_magic/')"
   ]
  }
 ],
 "metadata": {
  "kernelspec": {
   "display_name": "Python 2",
   "language": "python",
   "name": "python2"
  },
  "language_info": {
   "codemirror_mode": {
    "name": "ipython",
    "version": 2
   },
   "file_extension": ".py",
   "mimetype": "text/x-python",
   "name": "python",
   "nbconvert_exporter": "python",
   "pygments_lexer": "ipython2",
   "version": "2.7.11"
  }
 },
 "nbformat": 4,
 "nbformat_minor": 0
}
