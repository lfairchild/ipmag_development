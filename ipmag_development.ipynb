{
 "cells": [
  {
   "cell_type": "markdown",
   "metadata": {},
   "source": [
    "## To dos:\n",
    "\n",
    "### ipmag functions to be made:\n",
    "\n",
    "- [ ] ipmag.find_EI() clean up for ipmag inclusion including introductory function comments\n",
    "- [ ] ipmag.dmag_magic() find way to filter by site\n",
    "\n",
    "\n",
    "### [ ]update ipmag.sb_vgp_calc so that column fields can be specified (similar to what was done with vgp_calc)\n",
    "\n",
    "### ipmag/pmag functions that already exist that should be demonstrated:\n",
    "\n",
    "- [ ] ipmag.sb_vgp_calc\n",
    "- [ ] ipmag.download_magic"
   ]
  },
  {
   "cell_type": "code",
   "execution_count": null,
   "metadata": {
    "collapsed": true
   },
   "outputs": [],
   "source": [
    "# With the PmagPy folder in the PYTHONPATH, \n",
    "# the function modules from PmagPy can be imported\n",
    "import pmagpy.ipmag as ipmag\n",
    "import pmagpy.pmagplotlib as pmagplotlib\n",
    "import pmagpy.pmag as pmag\n",
    "\n",
    "from mpl_toolkits.basemap import Basemap\n",
    "import numpy as np\n",
    "import pandas as pd\n",
    "import matplotlib.pyplot as plt\n",
    "import os\n",
    "%matplotlib inline\n",
    "# %config InlineBackend.figure_formats = {'svg',}"
   ]
  },
  {
   "cell_type": "markdown",
   "metadata": {},
   "source": [
    "## Download Magic File"
   ]
  },
  {
   "cell_type": "markdown",
   "metadata": {},
   "source": [
    "To retrieve data from the MagIC database, you will download a contribution file that will look something like this: *magic_contribution_10231.txt*.\n",
    "\n",
    "A \"contribution\" is often made up of several MagIC files (one for each magnetic experiment) that have been concatenated into a single text file. The function **ipmag.download_magic** is able to recognize and separate these different experiments. It then writes individual text files for each (the file names are generated automatically by experiment). \n",
    "\n",
    "Let's unpack the MagIC contribution of Swanson-Hysell et al., 2014 (MagIC contribution 10231)."
   ]
  },
  {
   "cell_type": "code",
   "execution_count": null,
   "metadata": {
    "collapsed": true
   },
   "outputs": [],
   "source": [
    "ipmag.download_magic('magic_contribution_10231.txt', \n",
    "                     dir_path='./Additional_Notebook_Output/download_magic',\n",
    "                     input_dir_path='./Example_Data/Swanson-Hysell2014',\n",
    "                    overwrite=True);"
   ]
  },
  {
   "cell_type": "code",
   "execution_count": null,
   "metadata": {
    "collapsed": true
   },
   "outputs": [],
   "source": [
    "The outputted print statements of this function are quite thorough, so you should now know where everything is. For example, let's look for the main measurments folder that was just written, *magic_measurements*. Above we saw this output:\n",
    "```\n",
    "unpacking:  ./Additional_Notebook_Output/download_magic/magic_measurements.txt\n",
    "13648  read in\n",
    "13648  records written to file  ./Additional_Notebook_Output/download_magic/Location_1/magic_measurements.txt\n",
    "13648  stored in  ./Additional_Notebook_Output/download_magic/Location_1/magic_measurements.txt\n",
    "```\n",
    "\n",
    "We can now read this file using the function **pmag.magic_read**."
   ]
  },
  {
   "cell_type": "markdown",
   "metadata": {},
   "source": [
    "find EI not working very well right now. seems to work if     \n",
    "return Es,Is,Fs,V2s\n",
    "\n",
    "at end of pmag.find_f rather than:\n",
    "return [0],[0],[0],[0]\n",
    "\n",
    "But I don't want to change for fear of breaking find_EI.py\n",
    "\n",
    "Need to find out what exactly the exception is in find_f that returns zeros"
   ]
  },
  {
   "cell_type": "code",
   "execution_count": null,
   "metadata": {
    "collapsed": true
   },
   "outputs": [],
   "source": [
    "from IPython.display import clear_output\n",
    "import sys\n",
    "def find_EI(data, nb=1000, save = False, save_folder = '.', fmt='svg'):\n",
    "    \"\"\"\n",
    "    Applies series of assumed flattening factor and \"unsquishes\" inclinations assuming tangent function.\n",
    "    Finds flattening factor that gives elongation/inclination pair consistent with TK03.  \n",
    "    Finds bootstrap confidence bounds\n",
    "\n",
    "    Arguments\n",
    "    -----------\n",
    "    data: a nested list of dec/inc pairs\n",
    " \n",
    "    Keywords\n",
    "    -----------\n",
    "    nb: number of bootstrapped pseudo-samples (default is 1000)\n",
    "\n",
    "    Output\n",
    "    -----------\n",
    "    four plots:   1) equal area plot of original directions\n",
    "                  2) Elongation/inclination pairs as a function of f,  data plus 25 bootstrap samples\n",
    "                  3) Cumulative distribution of bootstrapped optimal inclinations plus uncertainties.\n",
    "                     Estimate from original data set plotted as solid line\n",
    "                  4) Orientation of principle direction through unflattening\n",
    "                      \n",
    "    NOTE: If distribution does not have a solution, plot labeled: Pathological.  Some bootstrap samples may have\n",
    "       valid solutions and those are plotted in the CDFs and E/I plot.\n",
    "    \"\"\"        \n",
    "    print \"Bootstrapping.... be patient\"\n",
    "    print \"\"\n",
    "    sys.stdout.flush()\n",
    "    \n",
    "    upper,lower=int(round(.975*nb)),int(round(.025*nb))\n",
    "    E,I=[],[]\n",
    "    \n",
    "    plt.figure(num=1,figsize=(4,4))\n",
    "    ipmag.plot_net(1)\n",
    "    ipmag.plot_di(di_block=data)\n",
    "    \n",
    "    ppars=pmag.doprinc(data)\n",
    "    Io=ppars['inc']\n",
    "    n=ppars[\"N\"]\n",
    "    Es,Is,Fs,V2s=pmag.find_f(data)\n",
    "    Inc,Elong=Is[-1],Es[-1]\n",
    "    \n",
    "    plt.figure(num=2,figsize=(4,4))\n",
    "    plt.plot(Is,Es,'r')\n",
    "    plt.xlabel(\"Inclination\")\n",
    "    plt.ylabel(\"Elongation\")\n",
    "    plt.text(Inc,Elong,' %3.1f'%(Fs[-1]))\n",
    "    plt.text(Is[0]-2,Es[0],' %s'%('f=1'))\n",
    "    \n",
    "#     plt.figure(num=PLTS['ei'], figsize=(5,5))\n",
    "#     plt.figure(num=PLTS['cdf'], figsize=(5,5))\n",
    "#     plt.figure(num=PLTS['v2'], figsize=(5,5))\n",
    "    \n",
    "\n",
    "#     pmagplotlib.drawFIGS(PLTS)\n",
    "            \n",
    "\n",
    "#     pmagplotlib.plotEI(PLTS['ei'],Es,Is,Fs[-1])\n",
    "#     pmagplotlib.plotV2s(PLTS['v2'],V2s,Is,Fs[-1])\n",
    "    b=0\n",
    "    \n",
    "    while b < nb:\n",
    "        bdata = pmag.pseudo(data)\n",
    "        Es,Is,Fs,V2s = pmag.find_f(bdata)\n",
    "        if b<25:\n",
    "            plt.plot(Is,Es,'y')\n",
    "#         if len(Es)>0:\n",
    "        if Es[-1] != 0:\n",
    "            ppars=pmag.doprinc(bdata)\n",
    "            I.append(abs(Is[-1]))\n",
    "            E.append(Es[-1])\n",
    "            b += 1\n",
    "#     print lower, upper\n",
    "    I.sort()\n",
    "    E.sort()\n",
    "    Eexp=[]\n",
    "    for i in I:\n",
    "        Eexp.append(pmag.EI(i))\n",
    "    plt.plot(I,Eexp,'g-')\n",
    "    if Inc==0:\n",
    "        title= 'Pathological Distribution: '+'[%7.1f, %7.1f]' %(I[lower],I[upper])\n",
    "    else:\n",
    "        title= '%7.1f [%7.1f, %7.1f]' %(Inc, I[lower],I[upper])\n",
    "   \n",
    "    cdf_fig_num = 3\n",
    "    plt.figure(num=cdf_fig_num,figsize=(4,4))\n",
    "    pmagplotlib.plotCDF(cdf_fig_num,I,'Inclinations','r',title)\n",
    "    pmagplotlib.plotVs(cdf_fig_num,[I[lower],I[upper]],'b','--')\n",
    "    pmagplotlib.plotVs(cdf_fig_num,[Inc],'g','-')\n",
    "    pmagplotlib.plotVs(cdf_fig_num,[Io],'k','-')\n",
    "\n",
    "\n",
    "    print \"The original inclination was: \" + str(Io)\n",
    "    print \"\"\n",
    "    print \"The corrected inclination is: \" + str(Inc)\n",
    "    print \"with bootstrapped confidence bounds of: \" +  str(I[lower]) + ' to ' + str(I[upper])"
   ]
  },
  {
   "cell_type": "code",
   "execution_count": null,
   "metadata": {
    "collapsed": true
   },
   "outputs": [],
   "source": [
    "find_EI(data=squished_DIs,nb=100)"
   ]
  },
  {
   "cell_type": "code",
   "execution_count": null,
   "metadata": {
    "collapsed": true
   },
   "outputs": [],
   "source": [
    "squished = pd.DataFrame(squished_DIs)\n",
    "squished.to_csv('./squished_DIs.txt', sep=\"\\t\", index=False)"
   ]
  },
  {
   "cell_type": "code",
   "execution_count": null,
   "metadata": {
    "collapsed": true
   },
   "outputs": [],
   "source": [
    "bdata = pmag.pseudo(squished_DIs)\n",
    "Es,Is,Fs,V2s = pmag.find_f(bdata)\n",
    "I"
   ]
  }
 ],
 "metadata": {
  "kernelspec": {
   "display_name": "Python 2",
   "language": "python",
   "name": "python2"
  },
  "language_info": {
   "codemirror_mode": {
    "name": "ipython",
    "version": 2
   },
   "file_extension": ".py",
   "mimetype": "text/x-python",
   "name": "python",
   "nbconvert_exporter": "python",
   "pygments_lexer": "ipython2",
   "version": "2.7.11"
  }
 },
 "nbformat": 4,
 "nbformat_minor": 0
}
